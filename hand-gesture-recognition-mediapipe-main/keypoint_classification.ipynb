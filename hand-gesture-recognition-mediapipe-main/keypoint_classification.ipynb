{
 "cells": [
  {
   "cell_type": "code",
   "execution_count": 1,
   "metadata": {},
   "outputs": [],
   "source": [
    "import csv\n",
    "import numpy as np\n",
    "import tensorflow as tf\n",
    "from sklearn.model_selection import train_test_split\n",
    "RANDOM_SEED = 42"
   ]
  },
  {
   "cell_type": "code",
   "execution_count": 2,
   "metadata": {},
   "outputs": [],
   "source": [
    "dataset = 'model/keypoint_classifier/keypoint.csv'\n",
    "model_save_path = 'model/keypoint_classifier/keypoint_classifier.hdf5'"
   ]
  },
  {
   "cell_type": "code",
   "execution_count": 3,
   "metadata": {},
   "outputs": [],
   "source": [
    "NUM_CLASSES = 7"
   ]
  },
  {
   "cell_type": "markdown",
   "metadata": {},
   "source": [
    "# load learning data"
   ]
  },
  {
   "cell_type": "code",
   "execution_count": 4,
   "metadata": {},
   "outputs": [],
   "source": [
    "X_dataset = np.loadtxt(dataset, delimiter=',', dtype='float32', usecols=list(range(1, (21 * 2) + 1)))"
   ]
  },
  {
   "cell_type": "code",
   "execution_count": 5,
   "metadata": {},
   "outputs": [],
   "source": [
    "y_dataset = np.loadtxt(dataset, delimiter=',', dtype='int32', usecols=(0))"
   ]
  },
  {
   "cell_type": "code",
   "execution_count": 6,
   "metadata": {},
   "outputs": [],
   "source": [
    "X_train, X_test, y_train, y_test = train_test_split(X_dataset, y_dataset, train_size=0.75, random_state=RANDOM_SEED)"
   ]
  },
  {
   "cell_type": "markdown",
   "metadata": {},
   "source": [
    "# model building"
   ]
  },
  {
   "cell_type": "code",
   "execution_count": 7,
   "metadata": {},
   "outputs": [],
   "source": [
    "model = tf.keras.models.Sequential([\n",
    "    tf.keras.layers.Input((21 * 2, )),\n",
    "    tf.keras.layers.Dropout(0.2),\n",
    "    tf.keras.layers.Dense(20, activation='relu'),\n",
    "    tf.keras.layers.Dropout(0.4),\n",
    "    tf.keras.layers.Dense(10, activation='relu'),\n",
    "    tf.keras.layers.Dense(NUM_CLASSES, activation='softmax')\n",
    "])"
   ]
  },
  {
   "cell_type": "code",
   "execution_count": 8,
   "metadata": {},
   "outputs": [
    {
     "data": {
      "text/html": [
       "<pre style=\"white-space:pre;overflow-x:auto;line-height:normal;font-family:Menlo,'DejaVu Sans Mono',consolas,'Courier New',monospace\"><span style=\"font-weight: bold\">Model: \"sequential\"</span>\n",
       "</pre>\n"
      ],
      "text/plain": [
       "\u001b[1mModel: \"sequential\"\u001b[0m\n"
      ]
     },
     "metadata": {},
     "output_type": "display_data"
    },
    {
     "data": {
      "text/html": [
       "<pre style=\"white-space:pre;overflow-x:auto;line-height:normal;font-family:Menlo,'DejaVu Sans Mono',consolas,'Courier New',monospace\">┏━━━━━━━━━━━━━━━━━━━━━━━━━━━━━━━━━━━━━━┳━━━━━━━━━━━━━━━━━━━━━━━━━━━━━┳━━━━━━━━━━━━━━━━━┓\n",
       "┃<span style=\"font-weight: bold\"> Layer (type)                         </span>┃<span style=\"font-weight: bold\"> Output Shape                </span>┃<span style=\"font-weight: bold\">         Param # </span>┃\n",
       "┡━━━━━━━━━━━━━━━━━━━━━━━━━━━━━━━━━━━━━━╇━━━━━━━━━━━━━━━━━━━━━━━━━━━━━╇━━━━━━━━━━━━━━━━━┩\n",
       "│ dropout (<span style=\"color: #0087ff; text-decoration-color: #0087ff\">Dropout</span>)                    │ (<span style=\"color: #00d7ff; text-decoration-color: #00d7ff\">None</span>, <span style=\"color: #00af00; text-decoration-color: #00af00\">42</span>)                  │               <span style=\"color: #00af00; text-decoration-color: #00af00\">0</span> │\n",
       "├──────────────────────────────────────┼─────────────────────────────┼─────────────────┤\n",
       "│ dense (<span style=\"color: #0087ff; text-decoration-color: #0087ff\">Dense</span>)                        │ (<span style=\"color: #00d7ff; text-decoration-color: #00d7ff\">None</span>, <span style=\"color: #00af00; text-decoration-color: #00af00\">20</span>)                  │             <span style=\"color: #00af00; text-decoration-color: #00af00\">860</span> │\n",
       "├──────────────────────────────────────┼─────────────────────────────┼─────────────────┤\n",
       "│ dropout_1 (<span style=\"color: #0087ff; text-decoration-color: #0087ff\">Dropout</span>)                  │ (<span style=\"color: #00d7ff; text-decoration-color: #00d7ff\">None</span>, <span style=\"color: #00af00; text-decoration-color: #00af00\">20</span>)                  │               <span style=\"color: #00af00; text-decoration-color: #00af00\">0</span> │\n",
       "├──────────────────────────────────────┼─────────────────────────────┼─────────────────┤\n",
       "│ dense_1 (<span style=\"color: #0087ff; text-decoration-color: #0087ff\">Dense</span>)                      │ (<span style=\"color: #00d7ff; text-decoration-color: #00d7ff\">None</span>, <span style=\"color: #00af00; text-decoration-color: #00af00\">10</span>)                  │             <span style=\"color: #00af00; text-decoration-color: #00af00\">210</span> │\n",
       "├──────────────────────────────────────┼─────────────────────────────┼─────────────────┤\n",
       "│ dense_2 (<span style=\"color: #0087ff; text-decoration-color: #0087ff\">Dense</span>)                      │ (<span style=\"color: #00d7ff; text-decoration-color: #00d7ff\">None</span>, <span style=\"color: #00af00; text-decoration-color: #00af00\">7</span>)                   │              <span style=\"color: #00af00; text-decoration-color: #00af00\">77</span> │\n",
       "└──────────────────────────────────────┴─────────────────────────────┴─────────────────┘\n",
       "</pre>\n"
      ],
      "text/plain": [
       "┏━━━━━━━━━━━━━━━━━━━━━━━━━━━━━━━━━━━━━━┳━━━━━━━━━━━━━━━━━━━━━━━━━━━━━┳━━━━━━━━━━━━━━━━━┓\n",
       "┃\u001b[1m \u001b[0m\u001b[1mLayer (type)                        \u001b[0m\u001b[1m \u001b[0m┃\u001b[1m \u001b[0m\u001b[1mOutput Shape               \u001b[0m\u001b[1m \u001b[0m┃\u001b[1m \u001b[0m\u001b[1m        Param #\u001b[0m\u001b[1m \u001b[0m┃\n",
       "┡━━━━━━━━━━━━━━━━━━━━━━━━━━━━━━━━━━━━━━╇━━━━━━━━━━━━━━━━━━━━━━━━━━━━━╇━━━━━━━━━━━━━━━━━┩\n",
       "│ dropout (\u001b[38;5;33mDropout\u001b[0m)                    │ (\u001b[38;5;45mNone\u001b[0m, \u001b[38;5;34m42\u001b[0m)                  │               \u001b[38;5;34m0\u001b[0m │\n",
       "├──────────────────────────────────────┼─────────────────────────────┼─────────────────┤\n",
       "│ dense (\u001b[38;5;33mDense\u001b[0m)                        │ (\u001b[38;5;45mNone\u001b[0m, \u001b[38;5;34m20\u001b[0m)                  │             \u001b[38;5;34m860\u001b[0m │\n",
       "├──────────────────────────────────────┼─────────────────────────────┼─────────────────┤\n",
       "│ dropout_1 (\u001b[38;5;33mDropout\u001b[0m)                  │ (\u001b[38;5;45mNone\u001b[0m, \u001b[38;5;34m20\u001b[0m)                  │               \u001b[38;5;34m0\u001b[0m │\n",
       "├──────────────────────────────────────┼─────────────────────────────┼─────────────────┤\n",
       "│ dense_1 (\u001b[38;5;33mDense\u001b[0m)                      │ (\u001b[38;5;45mNone\u001b[0m, \u001b[38;5;34m10\u001b[0m)                  │             \u001b[38;5;34m210\u001b[0m │\n",
       "├──────────────────────────────────────┼─────────────────────────────┼─────────────────┤\n",
       "│ dense_2 (\u001b[38;5;33mDense\u001b[0m)                      │ (\u001b[38;5;45mNone\u001b[0m, \u001b[38;5;34m7\u001b[0m)                   │              \u001b[38;5;34m77\u001b[0m │\n",
       "└──────────────────────────────────────┴─────────────────────────────┴─────────────────┘\n"
      ]
     },
     "metadata": {},
     "output_type": "display_data"
    },
    {
     "data": {
      "text/html": [
       "<pre style=\"white-space:pre;overflow-x:auto;line-height:normal;font-family:Menlo,'DejaVu Sans Mono',consolas,'Courier New',monospace\"><span style=\"font-weight: bold\"> Total params: </span><span style=\"color: #00af00; text-decoration-color: #00af00\">1,147</span> (4.48 KB)\n",
       "</pre>\n"
      ],
      "text/plain": [
       "\u001b[1m Total params: \u001b[0m\u001b[38;5;34m1,147\u001b[0m (4.48 KB)\n"
      ]
     },
     "metadata": {},
     "output_type": "display_data"
    },
    {
     "data": {
      "text/html": [
       "<pre style=\"white-space:pre;overflow-x:auto;line-height:normal;font-family:Menlo,'DejaVu Sans Mono',consolas,'Courier New',monospace\"><span style=\"font-weight: bold\"> Trainable params: </span><span style=\"color: #00af00; text-decoration-color: #00af00\">1,147</span> (4.48 KB)\n",
       "</pre>\n"
      ],
      "text/plain": [
       "\u001b[1m Trainable params: \u001b[0m\u001b[38;5;34m1,147\u001b[0m (4.48 KB)\n"
      ]
     },
     "metadata": {},
     "output_type": "display_data"
    },
    {
     "data": {
      "text/html": [
       "<pre style=\"white-space:pre;overflow-x:auto;line-height:normal;font-family:Menlo,'DejaVu Sans Mono',consolas,'Courier New',monospace\"><span style=\"font-weight: bold\"> Non-trainable params: </span><span style=\"color: #00af00; text-decoration-color: #00af00\">0</span> (0.00 B)\n",
       "</pre>\n"
      ],
      "text/plain": [
       "\u001b[1m Non-trainable params: \u001b[0m\u001b[38;5;34m0\u001b[0m (0.00 B)\n"
      ]
     },
     "metadata": {},
     "output_type": "display_data"
    }
   ],
   "source": [
    "model.summary()  # tf.keras.utils.plot_model(model, show_shapes=True)"
   ]
  },
  {
   "cell_type": "code",
   "execution_count": null,
   "metadata": {},
   "outputs": [],
   "source": [
    "model.compile(\n",
    "    optimizer='adam',\n",
    "    loss='sparse_categorical_crossentropy',\n",
    "    metrics=['accuracy']\n",
    ")"
   ]
  },
  {
   "cell_type": "code",
   "execution_count": null,
   "metadata": {
    "scrolled": true
   },
   "outputs": [
    {
     "name": "stdout",
     "output_type": "stream",
     "text": [
      "Epoch 110/1000\n",
      "28/32 [=========================>....] - ETA: 0s - loss: 0.6641 - accuracy: 0.7508\n",
      "Epoch 110: saving model to model/keypoint_classifier\\keypoint_classifier.hdf5\n",
      "32/32 [==============================] - 0s 8ms/step - loss: 0.6732 - accuracy: 0.7537 - val_loss: 0.2985 - val_accuracy: 0.9575\n",
      "Epoch 111/1000\n",
      "29/32 [==========================>...] - ETA: 0s - loss: 0.6687 - accuracy: 0.7438\n",
      "Epoch 111: saving model to model/keypoint_classifier\\keypoint_classifier.hdf5\n",
      "32/32 [==============================] - 0s 8ms/step - loss: 0.6690 - accuracy: 0.7422 - val_loss: 0.2999 - val_accuracy: 0.9560\n",
      "Epoch 112/1000\n",
      "30/32 [===========================>..] - ETA: 0s - loss: 0.6753 - accuracy: 0.7417\n",
      "Epoch 112: saving model to model/keypoint_classifier\\keypoint_classifier.hdf5\n",
      "32/32 [==============================] - 0s 8ms/step - loss: 0.6765 - accuracy: 0.7415 - val_loss: 0.3026 - val_accuracy: 0.9553\n",
      "Epoch 113/1000\n",
      "30/32 [===========================>..] - ETA: 0s - loss: 0.6838 - accuracy: 0.7333\n",
      "Epoch 113: saving model to model/keypoint_classifier\\keypoint_classifier.hdf5\n",
      "32/32 [==============================] - 0s 8ms/step - loss: 0.6829 - accuracy: 0.7345 - val_loss: 0.3085 - val_accuracy: 0.9568\n",
      "Epoch 114/1000\n",
      "29/32 [==========================>...] - ETA: 0s - loss: 0.6779 - accuracy: 0.7395\n",
      "Epoch 114: saving model to model/keypoint_classifier\\keypoint_classifier.hdf5\n",
      "32/32 [==============================] - 0s 8ms/step - loss: 0.6791 - accuracy: 0.7420 - val_loss: 0.3120 - val_accuracy: 0.9575\n",
      "Epoch 115/1000\n",
      "31/32 [============================>.] - ETA: 0s - loss: 0.6571 - accuracy: 0.7503\n",
      "Epoch 115: saving model to model/keypoint_classifier\\keypoint_classifier.hdf5\n",
      "32/32 [==============================] - 0s 7ms/step - loss: 0.6591 - accuracy: 0.7497 - val_loss: 0.3025 - val_accuracy: 0.9568\n",
      "Epoch 116/1000\n",
      "27/32 [========================>.....] - ETA: 0s - loss: 0.6752 - accuracy: 0.7358\n",
      "Epoch 116: saving model to model/keypoint_classifier\\keypoint_classifier.hdf5\n",
      "32/32 [==============================] - 0s 8ms/step - loss: 0.6857 - accuracy: 0.7335 - val_loss: 0.3127 - val_accuracy: 0.9568\n",
      "Epoch 117/1000\n",
      "31/32 [============================>.] - ETA: 0s - loss: 0.6842 - accuracy: 0.7407\n",
      "Epoch 117: saving model to model/keypoint_classifier\\keypoint_classifier.hdf5\n",
      "32/32 [==============================] - 0s 7ms/step - loss: 0.6832 - accuracy: 0.7405 - val_loss: 0.3117 - val_accuracy: 0.9583\n",
      "Epoch 118/1000\n",
      "31/32 [============================>.] - ETA: 0s - loss: 0.6595 - accuracy: 0.7477\n",
      "Epoch 118: saving model to model/keypoint_classifier\\keypoint_classifier.hdf5\n",
      "32/32 [==============================] - 0s 8ms/step - loss: 0.6599 - accuracy: 0.7475 - val_loss: 0.3028 - val_accuracy: 0.9590\n",
      "Epoch 119/1000\n",
      "29/32 [==========================>...] - ETA: 0s - loss: 0.6813 - accuracy: 0.7373\n",
      "Epoch 119: saving model to model/keypoint_classifier\\keypoint_classifier.hdf5\n",
      "32/32 [==============================] - 0s 9ms/step - loss: 0.6785 - accuracy: 0.7388 - val_loss: 0.3065 - val_accuracy: 0.9590\n",
      "Epoch 120/1000\n",
      "29/32 [==========================>...] - ETA: 0s - loss: 0.6456 - accuracy: 0.7554\n",
      "Epoch 120: saving model to model/keypoint_classifier\\keypoint_classifier.hdf5\n",
      "32/32 [==============================] - 0s 10ms/step - loss: 0.6433 - accuracy: 0.7559 - val_loss: 0.3029 - val_accuracy: 0.9568\n",
      "Epoch 121/1000\n",
      "27/32 [========================>.....] - ETA: 0s - loss: 0.6829 - accuracy: 0.7436\n",
      "Epoch 121: saving model to model/keypoint_classifier\\keypoint_classifier.hdf5\n",
      "32/32 [==============================] - 0s 9ms/step - loss: 0.6819 - accuracy: 0.7410 - val_loss: 0.2999 - val_accuracy: 0.9575\n",
      "Epoch 122/1000\n",
      "27/32 [========================>.....] - ETA: 0s - loss: 0.6462 - accuracy: 0.7613\n",
      "Epoch 122: saving model to model/keypoint_classifier\\keypoint_classifier.hdf5\n",
      "32/32 [==============================] - 0s 8ms/step - loss: 0.6477 - accuracy: 0.7586 - val_loss: 0.2927 - val_accuracy: 0.9598\n",
      "Epoch 123/1000\n",
      "30/32 [===========================>..] - ETA: 0s - loss: 0.6573 - accuracy: 0.7505\n",
      "Epoch 123: saving model to model/keypoint_classifier\\keypoint_classifier.hdf5\n",
      "32/32 [==============================] - 0s 8ms/step - loss: 0.6580 - accuracy: 0.7504 - val_loss: 0.2971 - val_accuracy: 0.9635\n",
      "Epoch 124/1000\n",
      "31/32 [============================>.] - ETA: 0s - loss: 0.6750 - accuracy: 0.7394\n",
      "Epoch 124: saving model to model/keypoint_classifier\\keypoint_classifier.hdf5\n",
      "32/32 [==============================] - 0s 8ms/step - loss: 0.6768 - accuracy: 0.7395 - val_loss: 0.3014 - val_accuracy: 0.9598\n",
      "Epoch 125/1000\n",
      "27/32 [========================>.....] - ETA: 0s - loss: 0.6560 - accuracy: 0.7483\n",
      "Epoch 125: saving model to model/keypoint_classifier\\keypoint_classifier.hdf5\n",
      "32/32 [==============================] - 0s 8ms/step - loss: 0.6591 - accuracy: 0.7447 - val_loss: 0.3053 - val_accuracy: 0.9583\n",
      "Epoch 126/1000\n",
      "30/32 [===========================>..] - ETA: 0s - loss: 0.6623 - accuracy: 0.7484\n",
      "Epoch 126: saving model to model/keypoint_classifier\\keypoint_classifier.hdf5\n",
      "32/32 [==============================] - 0s 8ms/step - loss: 0.6603 - accuracy: 0.7509 - val_loss: 0.3020 - val_accuracy: 0.9575\n",
      "Epoch 127/1000\n",
      "32/32 [==============================] - ETA: 0s - loss: 0.6479 - accuracy: 0.7569\n",
      "Epoch 127: saving model to model/keypoint_classifier\\keypoint_classifier.hdf5\n",
      "32/32 [==============================] - 0s 7ms/step - loss: 0.6479 - accuracy: 0.7569 - val_loss: 0.2951 - val_accuracy: 0.9590\n",
      "Epoch 128/1000\n",
      "30/32 [===========================>..] - ETA: 0s - loss: 0.6626 - accuracy: 0.7495\n",
      "Epoch 128: saving model to model/keypoint_classifier\\keypoint_classifier.hdf5\n",
      "32/32 [==============================] - 0s 7ms/step - loss: 0.6630 - accuracy: 0.7479 - val_loss: 0.3025 - val_accuracy: 0.9590\n",
      "Epoch 129/1000\n",
      "28/32 [=========================>....] - ETA: 0s - loss: 0.6574 - accuracy: 0.7453\n",
      "Epoch 129: saving model to model/keypoint_classifier\\keypoint_classifier.hdf5\n",
      "32/32 [==============================] - 0s 8ms/step - loss: 0.6575 - accuracy: 0.7450 - val_loss: 0.2946 - val_accuracy: 0.9590\n",
      "Epoch 130/1000\n",
      "29/32 [==========================>...] - ETA: 0s - loss: 0.6521 - accuracy: 0.7548\n",
      "Epoch 130: saving model to model/keypoint_classifier\\keypoint_classifier.hdf5\n",
      "32/32 [==============================] - 0s 8ms/step - loss: 0.6555 - accuracy: 0.7529 - val_loss: 0.2868 - val_accuracy: 0.9598\n",
      "Epoch 131/1000\n",
      "30/32 [===========================>..] - ETA: 0s - loss: 0.6603 - accuracy: 0.7461\n",
      "Epoch 131: saving model to model/keypoint_classifier\\keypoint_classifier.hdf5\n",
      "32/32 [==============================] - 0s 8ms/step - loss: 0.6596 - accuracy: 0.7462 - val_loss: 0.2965 - val_accuracy: 0.9605\n",
      "Epoch 132/1000\n",
      "30/32 [===========================>..] - ETA: 0s - loss: 0.6629 - accuracy: 0.7542\n",
      "Epoch 132: saving model to model/keypoint_classifier\\keypoint_classifier.hdf5\n",
      "32/32 [==============================] - 0s 7ms/step - loss: 0.6646 - accuracy: 0.7539 - val_loss: 0.2910 - val_accuracy: 0.9620\n",
      "Epoch 133/1000\n",
      "29/32 [==========================>...] - ETA: 0s - loss: 0.6322 - accuracy: 0.7691\n",
      "Epoch 133: saving model to model/keypoint_classifier\\keypoint_classifier.hdf5\n",
      "32/32 [==============================] - 0s 8ms/step - loss: 0.6356 - accuracy: 0.7671 - val_loss: 0.2861 - val_accuracy: 0.9620\n",
      "Epoch 134/1000\n",
      "22/32 [===================>..........] - ETA: 0s - loss: 0.6343 - accuracy: 0.7571\n",
      "Epoch 134: saving model to model/keypoint_classifier\\keypoint_classifier.hdf5\n",
      "32/32 [==============================] - 0s 8ms/step - loss: 0.6477 - accuracy: 0.7547 - val_loss: 0.2899 - val_accuracy: 0.9605\n",
      "Epoch 135/1000\n",
      "31/32 [============================>.] - ETA: 0s - loss: 0.6496 - accuracy: 0.7525\n",
      "Epoch 135: saving model to model/keypoint_classifier\\keypoint_classifier.hdf5\n",
      "32/32 [==============================] - 0s 7ms/step - loss: 0.6493 - accuracy: 0.7524 - val_loss: 0.3021 - val_accuracy: 0.9598\n",
      "Epoch 136/1000\n",
      "29/32 [==========================>...] - ETA: 0s - loss: 0.6697 - accuracy: 0.7462\n",
      "Epoch 136: saving model to model/keypoint_classifier\\keypoint_classifier.hdf5\n",
      "32/32 [==============================] - 0s 8ms/step - loss: 0.6694 - accuracy: 0.7475 - val_loss: 0.2952 - val_accuracy: 0.9583\n"
     ]
    },
    {
     "name": "stdout",
     "output_type": "stream",
     "text": [
      "Epoch 137/1000\n",
      "31/32 [============================>.] - ETA: 0s - loss: 0.6473 - accuracy: 0.7535\n",
      "Epoch 137: saving model to model/keypoint_classifier\\keypoint_classifier.hdf5\n",
      "32/32 [==============================] - 0s 8ms/step - loss: 0.6444 - accuracy: 0.7544 - val_loss: 0.2940 - val_accuracy: 0.9598\n",
      "Epoch 138/1000\n",
      "25/32 [======================>.......] - ETA: 0s - loss: 0.6545 - accuracy: 0.7588\n",
      "Epoch 138: saving model to model/keypoint_classifier\\keypoint_classifier.hdf5\n",
      "32/32 [==============================] - 0s 8ms/step - loss: 0.6642 - accuracy: 0.7494 - val_loss: 0.2950 - val_accuracy: 0.9590\n",
      "Epoch 139/1000\n",
      "28/32 [=========================>....] - ETA: 0s - loss: 0.6566 - accuracy: 0.7595\n",
      "Epoch 139: saving model to model/keypoint_classifier\\keypoint_classifier.hdf5\n",
      "32/32 [==============================] - 0s 8ms/step - loss: 0.6550 - accuracy: 0.7589 - val_loss: 0.2955 - val_accuracy: 0.9613\n",
      "Epoch 140/1000\n",
      "31/32 [============================>.] - ETA: 0s - loss: 0.6420 - accuracy: 0.7548\n",
      "Epoch 140: saving model to model/keypoint_classifier\\keypoint_classifier.hdf5\n",
      "32/32 [==============================] - 0s 7ms/step - loss: 0.6400 - accuracy: 0.7566 - val_loss: 0.2890 - val_accuracy: 0.9598\n",
      "Epoch 141/1000\n",
      "27/32 [========================>.....] - ETA: 0s - loss: 0.6682 - accuracy: 0.7503\n",
      "Epoch 141: saving model to model/keypoint_classifier\\keypoint_classifier.hdf5\n",
      "32/32 [==============================] - 0s 8ms/step - loss: 0.6672 - accuracy: 0.7507 - val_loss: 0.2870 - val_accuracy: 0.9613\n",
      "Epoch 142/1000\n",
      "26/32 [=======================>......] - ETA: 0s - loss: 0.6321 - accuracy: 0.7629\n",
      "Epoch 142: saving model to model/keypoint_classifier\\keypoint_classifier.hdf5\n",
      "32/32 [==============================] - 0s 8ms/step - loss: 0.6551 - accuracy: 0.7564 - val_loss: 0.2945 - val_accuracy: 0.9620\n",
      "Epoch 143/1000\n",
      "27/32 [========================>.....] - ETA: 0s - loss: 0.6672 - accuracy: 0.7529\n",
      "Epoch 143: saving model to model/keypoint_classifier\\keypoint_classifier.hdf5\n",
      "32/32 [==============================] - 0s 8ms/step - loss: 0.6645 - accuracy: 0.7514 - val_loss: 0.2971 - val_accuracy: 0.9613\n",
      "Epoch 144/1000\n",
      "27/32 [========================>.....] - ETA: 0s - loss: 0.6420 - accuracy: 0.7520\n",
      "Epoch 144: saving model to model/keypoint_classifier\\keypoint_classifier.hdf5\n",
      "32/32 [==============================] - 0s 8ms/step - loss: 0.6459 - accuracy: 0.7514 - val_loss: 0.2968 - val_accuracy: 0.9583\n",
      "Epoch 145/1000\n",
      "28/32 [=========================>....] - ETA: 0s - loss: 0.6624 - accuracy: 0.7427\n",
      "Epoch 145: saving model to model/keypoint_classifier\\keypoint_classifier.hdf5\n",
      "32/32 [==============================] - 0s 8ms/step - loss: 0.6624 - accuracy: 0.7437 - val_loss: 0.3058 - val_accuracy: 0.9620\n",
      "Epoch 146/1000\n",
      "25/32 [======================>.......] - ETA: 0s - loss: 0.6516 - accuracy: 0.7525\n",
      "Epoch 146: saving model to model/keypoint_classifier\\keypoint_classifier.hdf5\n",
      "32/32 [==============================] - 0s 10ms/step - loss: 0.6500 - accuracy: 0.7579 - val_loss: 0.2919 - val_accuracy: 0.9590\n",
      "Epoch 147/1000\n",
      "25/32 [======================>.......] - ETA: 0s - loss: 0.6447 - accuracy: 0.7513\n",
      "Epoch 147: saving model to model/keypoint_classifier\\keypoint_classifier.hdf5\n",
      "32/32 [==============================] - 0s 9ms/step - loss: 0.6401 - accuracy: 0.7504 - val_loss: 0.2872 - val_accuracy: 0.9620\n",
      "Epoch 148/1000\n",
      "23/32 [====================>.........] - ETA: 0s - loss: 0.6422 - accuracy: 0.7653\n",
      "Epoch 148: saving model to model/keypoint_classifier\\keypoint_classifier.hdf5\n",
      "32/32 [==============================] - 0s 9ms/step - loss: 0.6364 - accuracy: 0.7651 - val_loss: 0.2901 - val_accuracy: 0.9613\n",
      "Epoch 149/1000\n",
      "26/32 [=======================>......] - ETA: 0s - loss: 0.6569 - accuracy: 0.7497\n",
      "Epoch 149: saving model to model/keypoint_classifier\\keypoint_classifier.hdf5\n",
      "32/32 [==============================] - 0s 8ms/step - loss: 0.6543 - accuracy: 0.7507 - val_loss: 0.2912 - val_accuracy: 0.9598\n",
      "Epoch 150/1000\n",
      "25/32 [======================>.......] - ETA: 0s - loss: 0.6651 - accuracy: 0.7469\n",
      "Epoch 150: saving model to model/keypoint_classifier\\keypoint_classifier.hdf5\n",
      "32/32 [==============================] - 0s 9ms/step - loss: 0.6610 - accuracy: 0.7487 - val_loss: 0.2931 - val_accuracy: 0.9568\n",
      "Epoch 151/1000\n",
      "30/32 [===========================>..] - ETA: 0s - loss: 0.6460 - accuracy: 0.7617\n",
      "Epoch 151: saving model to model/keypoint_classifier\\keypoint_classifier.hdf5\n",
      "32/32 [==============================] - 0s 7ms/step - loss: 0.6479 - accuracy: 0.7599 - val_loss: 0.2979 - val_accuracy: 0.9560\n",
      "Epoch 152/1000\n",
      "29/32 [==========================>...] - ETA: 0s - loss: 0.6320 - accuracy: 0.7675\n",
      "Epoch 152: saving model to model/keypoint_classifier\\keypoint_classifier.hdf5\n",
      "32/32 [==============================] - 0s 8ms/step - loss: 0.6314 - accuracy: 0.7651 - val_loss: 0.2820 - val_accuracy: 0.9613\n",
      "Epoch 153/1000\n",
      "26/32 [=======================>......] - ETA: 0s - loss: 0.6551 - accuracy: 0.7503\n",
      "Epoch 153: saving model to model/keypoint_classifier\\keypoint_classifier.hdf5\n",
      "32/32 [==============================] - 0s 8ms/step - loss: 0.6538 - accuracy: 0.7499 - val_loss: 0.2945 - val_accuracy: 0.9598\n",
      "Epoch 154/1000\n",
      "26/32 [=======================>......] - ETA: 0s - loss: 0.6582 - accuracy: 0.7518\n",
      "Epoch 154: saving model to model/keypoint_classifier\\keypoint_classifier.hdf5\n",
      "32/32 [==============================] - 0s 8ms/step - loss: 0.6593 - accuracy: 0.7499 - val_loss: 0.2906 - val_accuracy: 0.9627\n",
      "Epoch 155/1000\n",
      "26/32 [=======================>......] - ETA: 0s - loss: 0.6555 - accuracy: 0.7545\n",
      "Epoch 155: saving model to model/keypoint_classifier\\keypoint_classifier.hdf5\n",
      "32/32 [==============================] - 0s 9ms/step - loss: 0.6461 - accuracy: 0.7584 - val_loss: 0.2986 - val_accuracy: 0.9598\n",
      "Epoch 156/1000\n",
      "27/32 [========================>.....] - ETA: 0s - loss: 0.6473 - accuracy: 0.7532\n",
      "Epoch 156: saving model to model/keypoint_classifier\\keypoint_classifier.hdf5\n",
      "32/32 [==============================] - 0s 10ms/step - loss: 0.6501 - accuracy: 0.7554 - val_loss: 0.2919 - val_accuracy: 0.9620\n",
      "Epoch 157/1000\n",
      "21/32 [==================>...........] - ETA: 0s - loss: 0.6410 - accuracy: 0.7608\n",
      "Epoch 157: saving model to model/keypoint_classifier\\keypoint_classifier.hdf5\n",
      "32/32 [==============================] - 0s 9ms/step - loss: 0.6422 - accuracy: 0.7591 - val_loss: 0.2943 - val_accuracy: 0.9620\n",
      "Epoch 158/1000\n",
      "26/32 [=======================>......] - ETA: 0s - loss: 0.6375 - accuracy: 0.7638\n",
      "Epoch 158: saving model to model/keypoint_classifier\\keypoint_classifier.hdf5\n",
      "32/32 [==============================] - 0s 9ms/step - loss: 0.6473 - accuracy: 0.7586 - val_loss: 0.2899 - val_accuracy: 0.9605\n",
      "Epoch 159/1000\n",
      "24/32 [=====================>........] - ETA: 0s - loss: 0.6347 - accuracy: 0.7633\n",
      "Epoch 159: saving model to model/keypoint_classifier\\keypoint_classifier.hdf5\n",
      "32/32 [==============================] - 0s 11ms/step - loss: 0.6355 - accuracy: 0.7624 - val_loss: 0.2859 - val_accuracy: 0.9620\n",
      "Epoch 160/1000\n",
      "32/32 [==============================] - ETA: 0s - loss: 0.6543 - accuracy: 0.7554\n",
      "Epoch 160: saving model to model/keypoint_classifier\\keypoint_classifier.hdf5\n",
      "32/32 [==============================] - 0s 11ms/step - loss: 0.6543 - accuracy: 0.7554 - val_loss: 0.2879 - val_accuracy: 0.9613\n",
      "Epoch 161/1000\n",
      "27/32 [========================>.....] - ETA: 0s - loss: 0.6238 - accuracy: 0.7665\n",
      "Epoch 161: saving model to model/keypoint_classifier\\keypoint_classifier.hdf5\n",
      "32/32 [==============================] - 0s 8ms/step - loss: 0.6289 - accuracy: 0.7681 - val_loss: 0.2856 - val_accuracy: 0.9575\n",
      "Epoch 162/1000\n",
      "30/32 [===========================>..] - ETA: 0s - loss: 0.6349 - accuracy: 0.7669\n",
      "Epoch 162: saving model to model/keypoint_classifier\\keypoint_classifier.hdf5\n",
      "32/32 [==============================] - 1s 40ms/step - loss: 0.6370 - accuracy: 0.7644 - val_loss: 0.2835 - val_accuracy: 0.9605\n",
      "Epoch 163/1000\n",
      "29/32 [==========================>...] - ETA: 0s - loss: 0.6130 - accuracy: 0.7672\n",
      "Epoch 163: saving model to model/keypoint_classifier\\keypoint_classifier.hdf5\n",
      "32/32 [==============================] - 1s 17ms/step - loss: 0.6134 - accuracy: 0.7681 - val_loss: 0.2875 - val_accuracy: 0.9613\n"
     ]
    },
    {
     "name": "stdout",
     "output_type": "stream",
     "text": [
      "Epoch 164/1000\n",
      "27/32 [========================>.....] - ETA: 0s - loss: 0.6361 - accuracy: 0.7726\n",
      "Epoch 164: saving model to model/keypoint_classifier\\keypoint_classifier.hdf5\n",
      "32/32 [==============================] - 0s 14ms/step - loss: 0.6349 - accuracy: 0.7683 - val_loss: 0.2757 - val_accuracy: 0.9613\n",
      "Epoch 165/1000\n",
      "32/32 [==============================] - ETA: 0s - loss: 0.6383 - accuracy: 0.7653\n",
      "Epoch 165: saving model to model/keypoint_classifier\\keypoint_classifier.hdf5\n",
      "32/32 [==============================] - 0s 9ms/step - loss: 0.6383 - accuracy: 0.7653 - val_loss: 0.2815 - val_accuracy: 0.9590\n",
      "Epoch 166/1000\n",
      "27/32 [========================>.....] - ETA: 0s - loss: 0.6221 - accuracy: 0.7784\n",
      "Epoch 166: saving model to model/keypoint_classifier\\keypoint_classifier.hdf5\n",
      "32/32 [==============================] - 0s 11ms/step - loss: 0.6347 - accuracy: 0.7745 - val_loss: 0.2904 - val_accuracy: 0.9590\n",
      "Epoch 167/1000\n",
      "27/32 [========================>.....] - ETA: 0s - loss: 0.6300 - accuracy: 0.7616\n",
      "Epoch 167: saving model to model/keypoint_classifier\\keypoint_classifier.hdf5\n",
      "32/32 [==============================] - 0s 8ms/step - loss: 0.6302 - accuracy: 0.7629 - val_loss: 0.2869 - val_accuracy: 0.9560\n",
      "Epoch 168/1000\n",
      "28/32 [=========================>....] - ETA: 0s - loss: 0.6512 - accuracy: 0.7673\n",
      "Epoch 168: saving model to model/keypoint_classifier\\keypoint_classifier.hdf5\n",
      "32/32 [==============================] - 0s 9ms/step - loss: 0.6457 - accuracy: 0.7658 - val_loss: 0.2797 - val_accuracy: 0.9627\n",
      "Epoch 169/1000\n",
      "24/32 [=====================>........] - ETA: 0s - loss: 0.6335 - accuracy: 0.7640\n",
      "Epoch 169: saving model to model/keypoint_classifier\\keypoint_classifier.hdf5\n",
      "32/32 [==============================] - 0s 8ms/step - loss: 0.6339 - accuracy: 0.7626 - val_loss: 0.2834 - val_accuracy: 0.9620\n",
      "Epoch 170/1000\n",
      "29/32 [==========================>...] - ETA: 0s - loss: 0.6640 - accuracy: 0.7565\n",
      "Epoch 170: saving model to model/keypoint_classifier\\keypoint_classifier.hdf5\n",
      "32/32 [==============================] - 0s 10ms/step - loss: 0.6587 - accuracy: 0.7591 - val_loss: 0.2893 - val_accuracy: 0.9590\n",
      "Epoch 171/1000\n",
      "25/32 [======================>.......] - ETA: 0s - loss: 0.6523 - accuracy: 0.7613\n",
      "Epoch 171: saving model to model/keypoint_classifier\\keypoint_classifier.hdf5\n",
      "32/32 [==============================] - 0s 10ms/step - loss: 0.6437 - accuracy: 0.7621 - val_loss: 0.2912 - val_accuracy: 0.9613\n",
      "Epoch 172/1000\n",
      "25/32 [======================>.......] - ETA: 0s - loss: 0.6162 - accuracy: 0.7691\n",
      "Epoch 172: saving model to model/keypoint_classifier\\keypoint_classifier.hdf5\n",
      "32/32 [==============================] - 0s 9ms/step - loss: 0.6201 - accuracy: 0.7678 - val_loss: 0.2845 - val_accuracy: 0.9627\n",
      "Epoch 173/1000\n",
      "31/32 [============================>.] - ETA: 0s - loss: 0.6284 - accuracy: 0.7681\n",
      "Epoch 173: saving model to model/keypoint_classifier\\keypoint_classifier.hdf5\n",
      "32/32 [==============================] - 0s 9ms/step - loss: 0.6286 - accuracy: 0.7686 - val_loss: 0.2879 - val_accuracy: 0.9598\n",
      "Epoch 174/1000\n",
      "28/32 [=========================>....] - ETA: 0s - loss: 0.6480 - accuracy: 0.7522\n",
      "Epoch 174: saving model to model/keypoint_classifier\\keypoint_classifier.hdf5\n",
      "32/32 [==============================] - 0s 9ms/step - loss: 0.6572 - accuracy: 0.7517 - val_loss: 0.2805 - val_accuracy: 0.9605\n",
      "Epoch 175/1000\n",
      "29/32 [==========================>...] - ETA: 0s - loss: 0.6368 - accuracy: 0.7632\n",
      "Epoch 175: saving model to model/keypoint_classifier\\keypoint_classifier.hdf5\n",
      "32/32 [==============================] - 0s 10ms/step - loss: 0.6333 - accuracy: 0.7639 - val_loss: 0.2924 - val_accuracy: 0.9605\n",
      "Epoch 176/1000\n",
      "28/32 [=========================>....] - ETA: 0s - loss: 0.6381 - accuracy: 0.7659\n",
      "Epoch 176: saving model to model/keypoint_classifier\\keypoint_classifier.hdf5\n",
      "32/32 [==============================] - 0s 13ms/step - loss: 0.6398 - accuracy: 0.7661 - val_loss: 0.2820 - val_accuracy: 0.9657\n",
      "Epoch 177/1000\n",
      "24/32 [=====================>........] - ETA: 0s - loss: 0.6199 - accuracy: 0.7712\n",
      "Epoch 177: saving model to model/keypoint_classifier\\keypoint_classifier.hdf5\n",
      "32/32 [==============================] - 0s 13ms/step - loss: 0.6309 - accuracy: 0.7698 - val_loss: 0.2817 - val_accuracy: 0.9650\n",
      "Epoch 178/1000\n",
      "29/32 [==========================>...] - ETA: 0s - loss: 0.6255 - accuracy: 0.7656\n",
      "Epoch 178: saving model to model/keypoint_classifier\\keypoint_classifier.hdf5\n",
      "32/32 [==============================] - 0s 13ms/step - loss: 0.6257 - accuracy: 0.7644 - val_loss: 0.2884 - val_accuracy: 0.9613\n",
      "Epoch 179/1000\n",
      "26/32 [=======================>......] - ETA: 0s - loss: 0.6343 - accuracy: 0.7602\n",
      "Epoch 179: saving model to model/keypoint_classifier\\keypoint_classifier.hdf5\n",
      "32/32 [==============================] - 0s 15ms/step - loss: 0.6328 - accuracy: 0.7599 - val_loss: 0.2818 - val_accuracy: 0.9620\n",
      "Epoch 180/1000\n",
      "26/32 [=======================>......] - ETA: 0s - loss: 0.6125 - accuracy: 0.7743\n",
      "Epoch 180: saving model to model/keypoint_classifier\\keypoint_classifier.hdf5\n",
      "32/32 [==============================] - 0s 12ms/step - loss: 0.6255 - accuracy: 0.7740 - val_loss: 0.2742 - val_accuracy: 0.9620\n",
      "Epoch 181/1000\n",
      "27/32 [========================>.....] - ETA: 0s - loss: 0.6540 - accuracy: 0.7503\n",
      "Epoch 181: saving model to model/keypoint_classifier\\keypoint_classifier.hdf5\n",
      "32/32 [==============================] - 0s 11ms/step - loss: 0.6489 - accuracy: 0.7499 - val_loss: 0.2861 - val_accuracy: 0.9613\n",
      "Epoch 182/1000\n",
      "32/32 [==============================] - ETA: 0s - loss: 0.6231 - accuracy: 0.7698\n",
      "Epoch 182: saving model to model/keypoint_classifier\\keypoint_classifier.hdf5\n",
      "32/32 [==============================] - 0s 14ms/step - loss: 0.6231 - accuracy: 0.7698 - val_loss: 0.2931 - val_accuracy: 0.9598\n",
      "Epoch 183/1000\n",
      "22/32 [===================>..........] - ETA: 0s - loss: 0.6548 - accuracy: 0.7575\n",
      "Epoch 183: saving model to model/keypoint_classifier\\keypoint_classifier.hdf5\n",
      "32/32 [==============================] - 0s 10ms/step - loss: 0.6415 - accuracy: 0.7604 - val_loss: 0.2917 - val_accuracy: 0.9605\n",
      "Epoch 184/1000\n",
      "21/32 [==================>...........] - ETA: 0s - loss: 0.6057 - accuracy: 0.7757\n",
      "Epoch 184: saving model to model/keypoint_classifier\\keypoint_classifier.hdf5\n",
      "32/32 [==============================] - 0s 10ms/step - loss: 0.6015 - accuracy: 0.7783 - val_loss: 0.2749 - val_accuracy: 0.9598\n",
      "Epoch 185/1000\n",
      "30/32 [===========================>..] - ETA: 0s - loss: 0.6222 - accuracy: 0.7656\n",
      "Epoch 185: saving model to model/keypoint_classifier\\keypoint_classifier.hdf5\n",
      "32/32 [==============================] - 0s 10ms/step - loss: 0.6217 - accuracy: 0.7666 - val_loss: 0.2772 - val_accuracy: 0.9605\n",
      "Epoch 186/1000\n",
      "21/32 [==================>...........] - ETA: 0s - loss: 0.6363 - accuracy: 0.7545\n",
      "Epoch 186: saving model to model/keypoint_classifier\\keypoint_classifier.hdf5\n",
      "32/32 [==============================] - 0s 9ms/step - loss: 0.6190 - accuracy: 0.7604 - val_loss: 0.2927 - val_accuracy: 0.9590\n",
      "Epoch 187/1000\n",
      "30/32 [===========================>..] - ETA: 0s - loss: 0.6357 - accuracy: 0.7667\n",
      "Epoch 187: saving model to model/keypoint_classifier\\keypoint_classifier.hdf5\n",
      "32/32 [==============================] - 0s 10ms/step - loss: 0.6298 - accuracy: 0.7693 - val_loss: 0.2873 - val_accuracy: 0.9620\n",
      "Epoch 188/1000\n",
      "30/32 [===========================>..] - ETA: 0s - loss: 0.6168 - accuracy: 0.7688\n",
      "Epoch 188: saving model to model/keypoint_classifier\\keypoint_classifier.hdf5\n",
      "32/32 [==============================] - 0s 9ms/step - loss: 0.6213 - accuracy: 0.7671 - val_loss: 0.2838 - val_accuracy: 0.9613\n",
      "Epoch 189/1000\n",
      "27/32 [========================>.....] - ETA: 0s - loss: 0.6475 - accuracy: 0.7610\n",
      "Epoch 189: saving model to model/keypoint_classifier\\keypoint_classifier.hdf5\n",
      "32/32 [==============================] - 0s 12ms/step - loss: 0.6401 - accuracy: 0.7634 - val_loss: 0.2955 - val_accuracy: 0.9598\n",
      "Epoch 190/1000\n",
      "30/32 [===========================>..] - ETA: 0s - loss: 0.6238 - accuracy: 0.7630\n",
      "Epoch 190: saving model to model/keypoint_classifier\\keypoint_classifier.hdf5\n",
      "32/32 [==============================] - 0s 12ms/step - loss: 0.6299 - accuracy: 0.7606 - val_loss: 0.2906 - val_accuracy: 0.9605\n"
     ]
    },
    {
     "name": "stdout",
     "output_type": "stream",
     "text": [
      "Epoch 191/1000\n",
      "26/32 [=======================>......] - ETA: 0s - loss: 0.6053 - accuracy: 0.7707\n",
      "Epoch 191: saving model to model/keypoint_classifier\\keypoint_classifier.hdf5\n",
      "32/32 [==============================] - 0s 8ms/step - loss: 0.6009 - accuracy: 0.7745 - val_loss: 0.2863 - val_accuracy: 0.9613\n",
      "Epoch 192/1000\n",
      "29/32 [==========================>...] - ETA: 0s - loss: 0.6150 - accuracy: 0.7610\n",
      "Epoch 192: saving model to model/keypoint_classifier\\keypoint_classifier.hdf5\n",
      "32/32 [==============================] - 0s 9ms/step - loss: 0.6110 - accuracy: 0.7631 - val_loss: 0.2812 - val_accuracy: 0.9642\n",
      "Epoch 193/1000\n",
      "31/32 [============================>.] - ETA: 0s - loss: 0.6341 - accuracy: 0.7611\n",
      "Epoch 193: saving model to model/keypoint_classifier\\keypoint_classifier.hdf5\n",
      "32/32 [==============================] - 0s 10ms/step - loss: 0.6382 - accuracy: 0.7594 - val_loss: 0.2873 - val_accuracy: 0.9605\n",
      "Epoch 194/1000\n",
      "26/32 [=======================>......] - ETA: 0s - loss: 0.6295 - accuracy: 0.7776\n",
      "Epoch 194: saving model to model/keypoint_classifier\\keypoint_classifier.hdf5\n",
      "32/32 [==============================] - 0s 9ms/step - loss: 0.6330 - accuracy: 0.7736 - val_loss: 0.2941 - val_accuracy: 0.9613\n",
      "Epoch 195/1000\n",
      "25/32 [======================>.......] - ETA: 0s - loss: 0.6227 - accuracy: 0.7672\n",
      "Epoch 195: saving model to model/keypoint_classifier\\keypoint_classifier.hdf5\n",
      "32/32 [==============================] - 0s 9ms/step - loss: 0.6346 - accuracy: 0.7596 - val_loss: 0.2887 - val_accuracy: 0.9620\n",
      "Epoch 196/1000\n",
      "32/32 [==============================] - ETA: 0s - loss: 0.6021 - accuracy: 0.7758\n",
      "Epoch 196: saving model to model/keypoint_classifier\\keypoint_classifier.hdf5\n",
      "32/32 [==============================] - 0s 9ms/step - loss: 0.6021 - accuracy: 0.7758 - val_loss: 0.2909 - val_accuracy: 0.9590\n",
      "Epoch 197/1000\n",
      "25/32 [======================>.......] - ETA: 0s - loss: 0.6316 - accuracy: 0.7631\n",
      "Epoch 197: saving model to model/keypoint_classifier\\keypoint_classifier.hdf5\n",
      "32/32 [==============================] - 0s 10ms/step - loss: 0.6205 - accuracy: 0.7649 - val_loss: 0.2887 - val_accuracy: 0.9598\n",
      "Epoch 198/1000\n",
      "27/32 [========================>.....] - ETA: 0s - loss: 0.6146 - accuracy: 0.7755\n",
      "Epoch 198: saving model to model/keypoint_classifier\\keypoint_classifier.hdf5\n",
      "32/32 [==============================] - 0s 9ms/step - loss: 0.6221 - accuracy: 0.7708 - val_loss: 0.2893 - val_accuracy: 0.9598\n",
      "Epoch 199/1000\n",
      "27/32 [========================>.....] - ETA: 0s - loss: 0.6157 - accuracy: 0.7694\n",
      "Epoch 199: saving model to model/keypoint_classifier\\keypoint_classifier.hdf5\n",
      "32/32 [==============================] - 0s 8ms/step - loss: 0.6245 - accuracy: 0.7671 - val_loss: 0.2874 - val_accuracy: 0.9613\n",
      "Epoch 200/1000\n",
      "28/32 [=========================>....] - ETA: 0s - loss: 0.6220 - accuracy: 0.7718\n",
      "Epoch 200: saving model to model/keypoint_classifier\\keypoint_classifier.hdf5\n",
      "32/32 [==============================] - 0s 10ms/step - loss: 0.6214 - accuracy: 0.7708 - val_loss: 0.2819 - val_accuracy: 0.9620\n",
      "Epoch 200: early stopping\n"
     ]
    },
    {
     "data": {
      "text/plain": [
       "<keras.src.callbacks.History at 0x1c58c1ea8d0>"
      ]
     },
     "execution_count": 11,
     "metadata": {},
     "output_type": "execute_result"
    }
   ],
   "source": [
    "model.fit(\n",
    "    X_train,\n",
    "    y_train,\n",
    "    epochs=1000,\n",
    "    batch_size=128,\n",
    "    validation_data=(X_test, y_test),\n",
    "    callbacks=[cp_callback, es_callback]\n",
    ")"
   ]
  },
  {
   "cell_type": "code",
   "execution_count": null,
   "metadata": {},
   "outputs": [],
   "source": [
    "val_loss, val_acc = model.evaluate(X_test, y_test, batch_size=128)"
   ]
  },
  {
   "cell_type": "code",
   "execution_count": null,
   "metadata": {},
   "outputs": [],
   "source": [
    "model = tf.keras.models.load_model(model_save_path)"
   ]
  },
  {
   "cell_type": "code",
   "execution_count": null,
   "metadata": {},
   "outputs": [],
   "source": [
    "predict_result = model.predict(np.array([X_test[0]]))\n",
    "print(np.squeeze(predict_result))\n",
    "print(np.argmax(np.squeeze(predict_result)))"
   ]
  },
  {
   "cell_type": "code",
   "execution_count": null,
   "metadata": {},
   "outputs": [],
   "source": [
    "import pandas as pd\n",
    "import seaborn as sns\n",
    "import matplotlib.pyplot as plt\n",
    "from sklearn.metrics import confusion_matrix, classification_report\n",
    "\n",
    "def print_confusion_matrix(y_true, y_pred, report=True):\n",
    "    labels = sorted(list(set(y_true)))\n",
    "    cmx_data = confusion_matrix(y_true, y_pred, labels=labels)\n",
    "    \n",
    "    df_cmx = pd.DataFrame(cmx_data, index=labels, columns=labels)\n",
    " \n",
    "    fig, ax = plt.subplots(figsize=(7, 6))\n",
    "    sns.heatmap(df_cmx, annot=True, fmt='g' ,square=False)\n",
    "    ax.set_ylim(len(set(y_true)), 0)\n",
    "    plt.show()\n",
    "    \n",
    "    if report:\n",
    "        print('Classification Report')\n",
    "        print(classification_report(y_test, y_pred))\n",
    "\n",
    "Y_pred = model.predict(X_test)\n",
    "y_pred = np.argmax(Y_pred, axis=1)\n",
    "\n",
    "print_confusion_matrix(y_test, y_pred)"
   ]
  },
  {
   "cell_type": "code",
   "execution_count": null,
   "metadata": {},
   "outputs": [],
   "source": [
    "model.save(model_save_path, include_optimizer=False)"
   ]
  },
  {
   "cell_type": "code",
   "execution_count": null,
   "metadata": {},
   "outputs": [],
   "source": [
    "tflite_save_path = 'model/keypoint_classifier/keypoint_classifier.tflite'\n",
    "converter = tf.lite.TFLiteConverter.from_keras_model(model)\n",
    "converter.optimizations = [tf.lite.Optimize.DEFAULT]\n",
    "tflite_quantized_model = converter.convert()\n",
    "open(tflite_save_path, 'wb').write(tflite_quantized_model)"
   ]
  },
  {
   "cell_type": "code",
   "execution_count": null,
   "metadata": {},
   "outputs": [],
   "source": [
    "interpreter = tf.lite.Interpreter(model_path=tflite_save_path)\n",
    "interpreter.allocate_tensors()"
   ]
  },
  {
   "cell_type": "code",
   "execution_count": null,
   "metadata": {},
   "outputs": [],
   "source": [
    "input_details = interpreter.get_input_details()\n",
    "output_details = interpreter.get_output_details()"
   ]
  },
  {
   "cell_type": "code",
   "execution_count": null,
   "metadata": {},
   "outputs": [],
   "source": [
    "interpreter.set_tensor(input_details[0]['index'], np.array([X_test[0]]))"
   ]
  },
  {
   "cell_type": "code",
   "execution_count": null,
   "metadata": {
    "scrolled": true
   },
   "outputs": [],
   "source": [
    "%%time\n",
    "interpreter.invoke()\n",
    "tflite_results = interpreter.get_tensor(output_details[0]['index'])"
   ]
  },
  {
   "cell_type": "code",
   "execution_count": null,
   "metadata": {},
   "outputs": [],
   "source": [
    "print(np.squeeze(tflite_results))\n",
    "print(np.argmax(np.squeeze(tflite_results)))"
   ]
  }
 ],
 "metadata": {
  "kernelspec": {
   "display_name": "Python 3 (ipykernel)",
   "language": "python",
   "name": "python3"
  },
  "language_info": {
   "codemirror_mode": {
    "name": "ipython",
    "version": 3
   },
   "file_extension": ".py",
   "mimetype": "text/x-python",
   "name": "python",
   "nbconvert_exporter": "python",
   "pygments_lexer": "ipython3",
   "version": "3.10.2"
  }
 },
 "nbformat": 4,
 "nbformat_minor": 4
}
